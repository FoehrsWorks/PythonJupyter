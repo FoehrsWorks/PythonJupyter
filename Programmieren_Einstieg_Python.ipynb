{
  "nbformat": 4,
  "nbformat_minor": 0,
  "metadata": {
    "colab": {
      "provenance": [],
      "toc_visible": true,
      "include_colab_link": true
    },
    "kernelspec": {
      "name": "python3",
      "display_name": "Python 3"
    },
    "language_info": {
      "name": "python"
    }
  },
  "cells": [
    {
      "cell_type": "markdown",
      "metadata": {
        "id": "view-in-github",
        "colab_type": "text"
      },
      "source": [
        "<a href=\"https://colab.research.google.com/github/FoehrsWorks/PythonJupyter/blob/main/Programmieren_Einstieg_Python.ipynb\" target=\"_parent\"><img src=\"https://colab.research.google.com/assets/colab-badge.svg\" alt=\"Open In Colab\"/></a>"
      ]
    },
    {
      "cell_type": "markdown",
      "source": [
        "# Willkommen in der Programmieren-Starterumgebung\n",
        "Dieses Notebook hilft dir, die Grundlagen von Python zu lernen. Du kannst Code direkt hier ausführen und ändern.\n"
      ],
      "metadata": {
        "id": "ZQPWAk_QL0E4"
      }
    },
    {
      "cell_type": "markdown",
      "source": [
        "## Dein erster Python-Code: Hello, World!\n",
        "\n",
        "Willkommen in der Programmieren-Starterumgebung! 😊  \n",
        "Um mit Python zu starten, ist es immer eine gute Idee, etwas Einfaches auszuprobieren.  \n",
        "Ein klassisches Beispiel, um die Funktionsweise von Code zu verstehen, ist das berühmte **Hello, World!**-Programm.  \n",
        "\n",
        "### Was macht dieses Programm?\n",
        "Es zeigt eine einfache Nachricht auf dem Bildschirm an. Das ist ein erster Schritt, um zu lernen, wie man Python-Code schreibt und ausführt.\n",
        "\n",
        "### Warum ist das wichtig?\n",
        "- Du lernst, wie ein Python-Programm aufgebaut ist.  \n",
        "- Es zeigt dir sofort, dass dein Code funktioniert.\n",
        "\n",
        "Drücke jetzt einfach den **Play-Button** (▶️) unter dem folgenden Code, um dein erstes Programm auszuführen:"
      ],
      "metadata": {
        "id": "wIpwElORMXpJ"
      }
    },
    {
      "cell_type": "code",
      "execution_count": 1,
      "metadata": {
        "id": "d0Oxn1DFLu-F",
        "colab": {
          "base_uri": "https://localhost:8080/"
        },
        "outputId": "d28367bf-1978-43fc-bc20-e4f77d7f36c2"
      },
      "outputs": [
        {
          "output_type": "stream",
          "name": "stdout",
          "text": [
            "Hello, World!\n"
          ]
        }
      ],
      "source": [
        "# Dein erster Python-Code\n",
        "print(\"Hello, World!\")"
      ]
    },
    {
      "cell_type": "markdown",
      "source": [
        "### 1. Hello World Aufgaben\n",
        "\n",
        "#### Aufgabe 1: Variablen nutzen\n",
        "Ändere das Programm so, dass es eine Nachricht in einer Variablen speichert und diese dann ausgibt.\n",
        "\n",
        "---\n",
        "\n",
        "#### Aufgabe 2: Benutzername einfügen\n",
        "Passe das Programm so an, dass es den Namen des Benutzers in die Nachricht einfügt.\n",
        "\n",
        "---"
      ],
      "metadata": {
        "id": "GKSJulQpX6DW"
      }
    },
    {
      "cell_type": "markdown",
      "source": [
        "## Dein erster Python-Taschenrechner 🧮\n",
        "\n",
        "Jetzt, da du deinen ersten Python-Code ausgeführt hast, schauen wir uns etwas Spannenderes an: einen **einfachen Taschenrechner**!  \n",
        "\n",
        "### Was macht dieses Programm?\n",
        "Dieser Taschenrechner kann zwei Zahlen nehmen und die Grundrechenarten ausführen:  \n",
        "- **Addition (+)**  \n",
        "- **Subtraktion (-)**  \n",
        "- **Multiplikation (*)**  \n",
        "- **Division (/)**  \n",
        "\n",
        "Du gibst zwei Zahlen ein, wählst eine Rechenoperation, und der Taschenrechner zeigt dir das Ergebnis an.\n",
        "\n",
        "### Warum ist das wichtig?\n",
        "- Du lernst, wie man Eingaben von Nutzern verarbeitet.  \n",
        "- Du siehst, wie **Verzweigungen** (if/else) funktionieren, um unterschiedliche Aktionen auszuführen.  \n",
        "- Es ist ein praktisches Beispiel, das du direkt ausprobieren und erweitern kannst.\n",
        "\n",
        "Drücke den **Play-Button** (▶️) unter dem Code, um deinen eigenen Taschenrechner zu testen. Gib verschiedene Zahlen und Operationen ein und sieh, was passiert!  \n",
        "*(Tipp: Probier auch mal etwas aus, das zu einem Fehler führen könnte, wie eine Division durch null. Was passiert dann?)*\n",
        "\n",
        "---\n",
        "\n",
        "### Aufgabe:\n",
        "- Kannst du den Taschenrechner erweitern, damit er auch den Rest einer Division berechnet?  \n",
        "Hinweis: In Python nutzt du dazu das Symbol `%`. Viel Spaß beim Experimentieren! 🚀"
      ],
      "metadata": {
        "id": "8pwzfL9BMs4V"
      }
    },
    {
      "cell_type": "code",
      "source": [
        "# Einfacher Taschenrechner\n",
        "num1 = float(input(\"Gib die erste Zahl ein: \"))\n",
        "num2 = float(input(\"Gib die zweite Zahl ein: \"))\n",
        "operation = input(\"Wähle eine Operation (+, -, *, /): \")\n",
        "\n",
        "if operation == \"+\":\n",
        "    print(\"Ergebnis:\", num1 + num2)\n",
        "elif operation == \"-\":\n",
        "    print(\"Ergebnis:\", num1 - num2)\n",
        "elif operation == \"*\":\n",
        "    print(\"Ergebnis:\", num1 * num2)\n",
        "elif operation == \"/\":\n",
        "    if num2 != 0:\n",
        "        print(\"Ergebnis:\", num1 / num2)\n",
        "    else:\n",
        "        print(\"Fehler: Division durch null!\")\n",
        "else:\n",
        "    print(\"Ungültige Operation!\")"
      ],
      "metadata": {
        "id": "S195gzhxL6U3",
        "colab": {
          "base_uri": "https://localhost:8080/"
        },
        "outputId": "fa3dacb3-4092-46e5-ffcb-8452707b0856"
      },
      "execution_count": 2,
      "outputs": [
        {
          "output_type": "stream",
          "name": "stdout",
          "text": [
            "Gib die erste Zahl ein: 5\n",
            "Gib die zweite Zahl ein: 5\n",
            "Wähle eine Operation (+, -, *, /): *\n",
            "Ergebnis: 25.0\n"
          ]
        }
      ]
    },
    {
      "cell_type": "markdown",
      "source": [
        "### 2. Aufgaben für den Taschenrechner\n",
        "#### Aufgabe 1: Berechne die Summe von drei Zahlen\n",
        "Ergänze den Code, um die Summe von drei Zahlen zu berechnen!\n",
        "\n",
        "#### Aufgabe 2: Erweiterung um Modulo\n",
        "Füge die Berechnung des Restwerts (Modulo, `%`) hinzu.\n",
        "\n",
        "#### Aufgabe 3: Fehler abfangen\n",
        "Sorge dafür, dass das Programm einen Fehler abfängt, wenn der Benutzer keine Zahl eingibt.\n",
        "\n",
        "#### Aufgabe 4: Mehrere Berechnungen hintereinander\n",
        "Lass den Benutzer mehrere Berechnungen hintereinander durchführen, bis er „exit“ eingibt."
      ],
      "metadata": {
        "id": "E9UfHjsJMJWI"
      }
    },
    {
      "cell_type": "markdown",
      "source": [
        "## Weitere Aufgaben\n",
        "\n",
        "### 3. Kreative Aufgaben\n",
        "#### Aufgabe 1: Benutzerdefinierte Begrüßung\n",
        "Schreibe ein Programm, das den Benutzer fragt, wie er begrüßt werden möchte.\n",
        "\n",
        "#### Aufgabe 2: Zufällige Begrüßung\n",
        "Das Programm soll aus einer Liste von Begrüßungen zufällig eine auswählen.\n",
        "### 4. Aufgaben zur Förderung von Logik\n",
        "\n",
        "#### Aufgabe 1: Zahlen vergleichen\n",
        "Schreibe ein Programm, das zwei Zahlen vergleicht und sagt, welche größer ist.\n",
        "\n",
        "#### Aufgabe 2: Gerade oder ungerade?\n",
        "Schreibe ein Programm, das überprüft, ob eine eingegebene Zahl gerade oder ungerade ist.\n",
        "\n",
        "### 5. Erweiterte Herausforderungen\n",
        "\n",
        "#### Aufgabe 1: Mini-Spiel – Zahlenraten\n",
        "Der Benutzer soll eine Zahl zwischen 1 und 10 erraten, die das Programm zufällig auswählt."
      ],
      "metadata": {
        "id": "czjLnDuM42E5"
      }
    }
  ]
}